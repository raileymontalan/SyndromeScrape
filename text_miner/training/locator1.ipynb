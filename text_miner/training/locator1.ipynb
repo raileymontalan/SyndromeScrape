{
 "cells": [
  {
   "cell_type": "code",
   "execution_count": 1,
   "metadata": {},
   "outputs": [
    {
     "ename": "ModuleNotFoundError",
     "evalue": "No module named 'pandas'",
     "output_type": "error",
     "traceback": [
      "\u001b[0;31m---------------------------------------------------------------------------\u001b[0m",
      "\u001b[0;31mModuleNotFoundError\u001b[0m                       Traceback (most recent call last)",
      "\u001b[0;32m<ipython-input-1-59ab05e21164>\u001b[0m in \u001b[0;36m<module>\u001b[0;34m()\u001b[0m\n\u001b[1;32m      1\u001b[0m \u001b[0;32mimport\u001b[0m \u001b[0mnumpy\u001b[0m \u001b[0;32mas\u001b[0m \u001b[0mnp\u001b[0m\u001b[0;34m\u001b[0m\u001b[0m\n\u001b[0;32m----> 2\u001b[0;31m \u001b[0;32mimport\u001b[0m \u001b[0mpandas\u001b[0m \u001b[0;32mas\u001b[0m \u001b[0mpd\u001b[0m\u001b[0;34m\u001b[0m\u001b[0m\n\u001b[0m",
      "\u001b[0;31mModuleNotFoundError\u001b[0m: No module named 'pandas'"
     ]
    }
   ],
   "source": [
    "import numpy as np\n",
    "import pandas as pd"
   ]
  },
  {
   "cell_type": "code",
   "execution_count": null,
   "metadata": {},
   "outputs": [],
   "source": [
    "df = pd.read_csv('psgc.csv', encoding ='latin1')"
   ]
  },
  {
   "cell_type": "code",
   "execution_count": null,
   "metadata": {},
   "outputs": [],
   "source": [
    "# Clean data\n",
    "df['level'] = df['level'].str.lower()\n",
    "df['name'] = df['name'].str.lower()\n",
    "df = df.fillna('none')\n",
    "df.head(3)"
   ]
  },
  {
   "cell_type": "code",
   "execution_count": null,
   "metadata": {},
   "outputs": [],
   "source": [
    "'''\n",
    "Test locations\n",
    "- Locations are formatted inside a list of tuples.\n",
    "- Inside each tuple are two strings: the name and location and its corresponding location type.\n",
    "- There are 8 location types: 'reg', 'dist', city', 'prov', 'mun', 'submun', 'bgy', and 'none'.\n",
    "'''\n",
    "\n",
    "location1 = [('antipolo', 'none'), ('rizal', 'none')]\n",
    "location2 = [('cagayan valley', 'reg')]\n",
    "location3 = [('calamba', 'city'), ('rizal', 'prov')]"
   ]
  },
  {
   "cell_type": "code",
   "execution_count": null,
   "metadata": {},
   "outputs": [],
   "source": [
    "df[df['name'].str.contains(location1[0][0])].head(2)"
   ]
  },
  {
   "cell_type": "code",
   "execution_count": null,
   "metadata": {},
   "outputs": [],
   "source": [
    "df[df['name'].str.contains(location1[1][0])].head(2)"
   ]
  },
  {
   "cell_type": "code",
   "execution_count": null,
   "metadata": {},
   "outputs": [],
   "source": [
    "location4 = [('quezon', 'city')]\n",
    "df[(df['name'].str.contains(location4[0][0])) & (df['level'].str.contains(location4[0][1]))]"
   ]
  },
  {
   "cell_type": "code",
   "execution_count": null,
   "metadata": {},
   "outputs": [],
   "source": [
    "def search(location):\n",
    "    '''\n",
    "    search() accepts a list of strings referring to locations and return its equivalent geographic code.\n",
    "    Part 1: Collection\n",
    "        a. Provide a list of strings that refer to a certain location.\n",
    "        b. Find entries in the Philippine Standard Geographic Code list that contain the strings in column 'names'.\n",
    "        c. Return the list of entries that match the query above.\n",
    "    Part 2: Partition\n",
    "        a. Separate the entries according to level (region, province, municipality, barangay) into new lists.\n",
    "    Part 3: Comparision\n",
    "        a. \n",
    "    '''\n",
    "    # Collection\n",
    "    names = []\n",
    "    for name in location:\n",
    "        subset = df[df['name'].str.contains(name[0])]\n",
    "        tuples = [tuple(x) for x in subset.values]\n",
    "        names.append(tuples)\n",
    "        \n",
    "    # Partition\n",
    "    # regions = list(filter(lambda x: x[2]=='reg', names))\n",
    "    # cities = list(filter(lambda x: x[2]=='city', names))\n",
    "    # provinces = list(filter(lambda x: x[2]=='prov', names))\n",
    "    # municipalities = list(filter(lambda x: x[2]=='mun', names))\n",
    "    # barangays = list(filter(lambda x: x[2]=='bgy', names))\n",
    "    \n",
    "    # Comparison\n",
    "    \n",
    "    # print('regions', regions)\n",
    "    # print('cities', cities)\n",
    "    # print('provinces', provinces)\n",
    "    # print('municipalities', municipalities)\n",
    "    # print('barangays', barangays)\n",
    "    return names"
   ]
  },
  {
   "cell_type": "code",
   "execution_count": null,
   "metadata": {
    "scrolled": true
   },
   "outputs": [],
   "source": [
    "search(location1)"
   ]
  }
 ],
 "metadata": {
  "kernelspec": {
   "display_name": "fassster",
   "language": "python",
   "name": "fassster"
  },
  "language_info": {
   "codemirror_mode": {
    "name": "ipython",
    "version": 3
   },
   "file_extension": ".py",
   "mimetype": "text/x-python",
   "name": "python",
   "nbconvert_exporter": "python",
   "pygments_lexer": "ipython3",
   "version": "3.6.4"
  }
 },
 "nbformat": 4,
 "nbformat_minor": 2
}
