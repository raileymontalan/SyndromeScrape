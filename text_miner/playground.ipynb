{
 "cells": [
  {
   "cell_type": "code",
   "execution_count": 2,
   "metadata": {},
   "outputs": [],
   "source": [
    "import pandas as pd\n",
    "import spacy, random, json\n",
    "from pathlib import Path\n",
    "from toolz import partition_all\n",
    "from spacy import *\n",
    "from spacy.gold import GoldParse"
   ]
  },
  {
   "cell_type": "code",
   "execution_count": 3,
   "metadata": {},
   "outputs": [],
   "source": [
    "### Load spaCy 'en' model\n",
    "nlp = spacy.load('en')"
   ]
  },
  {
   "cell_type": "code",
   "execution_count": 24,
   "metadata": {},
   "outputs": [],
   "source": [
    "### Load unprocessed texts, apply nlp() to each text\n",
    "### then store into a list called docs.\n",
    "df = pd.read_json('train_data.json')\n",
    "docs = [text for text in df['content']]"
   ]
  },
  {
   "cell_type": "code",
   "execution_count": null,
   "metadata": {},
   "outputs": [],
   "source": [
    "def find_str(s, word):\n",
    "    index = 0           \n",
    "    if char in s:\n",
    "        char = char[0]\n",
    "        for ch in s:\n",
    "            if ch in s:\n",
    "                index += 1\n",
    "            if ch == char:\n",
    "                return index\n",
    "    else:\n",
    "        return -1\n"
   ]
  }
 ],
 "metadata": {
  "kernelspec": {
   "display_name": "Python 3",
   "language": "python",
   "name": "python3"
  },
  "language_info": {
   "codemirror_mode": {
    "name": "ipython",
    "version": 3
   },
   "file_extension": ".py",
   "mimetype": "text/x-python",
   "name": "python",
   "nbconvert_exporter": "python",
   "pygments_lexer": "ipython3",
   "version": "3.6.4"
  }
 },
 "nbformat": 4,
 "nbformat_minor": 2
}
