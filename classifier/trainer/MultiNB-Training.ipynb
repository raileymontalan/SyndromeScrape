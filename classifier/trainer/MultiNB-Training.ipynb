{
 "cells": [
  {
   "cell_type": "code",
   "execution_count": 64,
   "metadata": {},
   "outputs": [],
   "source": [
    "import numpy as np\n",
    "import pandas as pd\n",
    "from sklearn.feature_extraction.text import CountVectorizer\n",
    "from sklearn.model_selection import train_test_split\n",
    "from sklearn.naive_bayes import MultinomialNB\n",
    "from sklearn.feature_extraction.text import TfidfVectorizer"
   ]
  },
  {
   "cell_type": "code",
   "execution_count": 65,
   "metadata": {},
   "outputs": [
    {
     "data": {
      "text/plain": [
       "none       302\n",
       "measles     27\n",
       "dengue      26\n",
       "typhoid     24\n",
       "Name: disease, dtype: int64"
      ]
     },
     "execution_count": 65,
     "metadata": {},
     "output_type": "execute_result"
    }
   ],
   "source": [
    "df = pd.read_json('train.json', encoding='utf-8')\n",
    "df = df.sample(frac=1).reset_index(drop=True)\n",
    "df = df[['content', 'disease']]\n",
    "df.head()\n",
    "df['disease'].value_counts()"
   ]
  },
  {
   "cell_type": "code",
   "execution_count": 66,
   "metadata": {},
   "outputs": [
    {
     "data": {
      "text/html": [
       "<div>\n",
       "<style>\n",
       "    .dataframe thead tr:only-child th {\n",
       "        text-align: right;\n",
       "    }\n",
       "\n",
       "    .dataframe thead th {\n",
       "        text-align: left;\n",
       "    }\n",
       "\n",
       "    .dataframe tbody tr th {\n",
       "        vertical-align: top;\n",
       "    }\n",
       "</style>\n",
       "<table border=\"1\" class=\"dataframe\">\n",
       "  <thead>\n",
       "    <tr style=\"text-align: right;\">\n",
       "      <th></th>\n",
       "      <th>content</th>\n",
       "      <th>disease</th>\n",
       "    </tr>\n",
       "  </thead>\n",
       "  <tbody>\n",
       "    <tr>\n",
       "      <th>0</th>\n",
       "      <td>MANILA, Philippines — Aegis Juris fraternity m...</td>\n",
       "      <td>0</td>\n",
       "    </tr>\n",
       "    <tr>\n",
       "      <th>1</th>\n",
       "      <td>PARIS, France – The Philippines became the fir...</td>\n",
       "      <td>0</td>\n",
       "    </tr>\n",
       "    <tr>\n",
       "      <th>2</th>\n",
       "      <td>DAVAO CITY, Philippines — President Duterte gr...</td>\n",
       "      <td>0</td>\n",
       "    </tr>\n",
       "    <tr>\n",
       "      <th>3</th>\n",
       "      <td>MANILA, Philippines — After conquering Mount E...</td>\n",
       "      <td>0</td>\n",
       "    </tr>\n",
       "    <tr>\n",
       "      <th>4</th>\n",
       "      <td>MANILA, Philippines — Three bettors won the ja...</td>\n",
       "      <td>0</td>\n",
       "    </tr>\n",
       "  </tbody>\n",
       "</table>\n",
       "</div>"
      ],
      "text/plain": [
       "                                             content disease\n",
       "0  MANILA, Philippines — Aegis Juris fraternity m...       0\n",
       "1  PARIS, France – The Philippines became the fir...       0\n",
       "2  DAVAO CITY, Philippines — President Duterte gr...       0\n",
       "3  MANILA, Philippines — After conquering Mount E...       0\n",
       "4  MANILA, Philippines — Three bettors won the ja...       0"
      ]
     },
     "execution_count": 66,
     "metadata": {},
     "output_type": "execute_result"
    }
   ],
   "source": [
    "df.loc[df['disease']=='none', 'disease',]=0\n",
    "df.loc[df['disease']=='dengue', 'disease',]=1\n",
    "df.loc[df['disease']=='measles', 'disease',]=2\n",
    "df.loc[df['disease']=='typhoid', 'disease',]=3\n",
    "df.head()"
   ]
  },
  {
   "cell_type": "code",
   "execution_count": 67,
   "metadata": {},
   "outputs": [],
   "source": [
    "df_x = df['content']\n",
    "df_y = df['disease']"
   ]
  },
  {
   "cell_type": "code",
   "execution_count": 68,
   "metadata": {},
   "outputs": [],
   "source": [
    "x_train, x_test, y_train, y_test = train_test_split(df_x, df_y, test_size=0.50, random_state=4)"
   ]
  },
  {
   "cell_type": "code",
   "execution_count": 69,
   "metadata": {},
   "outputs": [
    {
     "data": {
      "text/plain": [
       "232    MANILA, Philippines — Four suspected kidnapper...\n",
       "297    DAVAO CITY  , Philippines  —  The departure of...\n",
       "90     LANAO DEL SUR — Authorities are now guarding h...\n",
       "76     ZAMBOANGA CITY, Philippines — Newly installed ...\n",
       "108    MANILA, Philippines — Outgoing presidential sp...\n",
       "Name: content, dtype: object"
      ]
     },
     "execution_count": 69,
     "metadata": {},
     "output_type": "execute_result"
    }
   ],
   "source": [
    "x_train.head()"
   ]
  },
  {
   "cell_type": "code",
   "execution_count": 70,
   "metadata": {},
   "outputs": [],
   "source": [
    "cv = CountVectorizer(min_df=1, stop_words='english', vocabulary={\n",
    "    'dengue':0, \n",
    "    'measles':1, \n",
    "    'typhoid':2,\n",
    "})\n",
    "x_traincv = cv.fit_transform(x_train)\n",
    "a = x_traincv.toarray()\n",
    "cv.inverse_transform(a[0])\n",
    "x_testcv = cv.transform(x_test)"
   ]
  },
  {
   "cell_type": "code",
   "execution_count": 71,
   "metadata": {},
   "outputs": [],
   "source": [
    "mnb = MultinomialNB()"
   ]
  },
  {
   "cell_type": "code",
   "execution_count": 72,
   "metadata": {},
   "outputs": [
    {
     "data": {
      "text/plain": [
       "232    0\n",
       "297    0\n",
       "90     0\n",
       "76     0\n",
       "108    0\n",
       "229    2\n",
       "327    2\n",
       "162    0\n",
       "35     0\n",
       "257    0\n",
       "178    0\n",
       "81     0\n",
       "163    0\n",
       "57     3\n",
       "121    2\n",
       "321    0\n",
       "26     0\n",
       "140    0\n",
       "341    0\n",
       "104    0\n",
       "4      0\n",
       "266    0\n",
       "77     0\n",
       "281    1\n",
       "135    1\n",
       "62     0\n",
       "347    0\n",
       "271    0\n",
       "278    0\n",
       "38     0\n",
       "      ..\n",
       "49     2\n",
       "136    2\n",
       "30     0\n",
       "377    0\n",
       "194    0\n",
       "56     3\n",
       "201    0\n",
       "149    3\n",
       "21     0\n",
       "183    0\n",
       "0      0\n",
       "52     0\n",
       "126    0\n",
       "294    1\n",
       "44     0\n",
       "164    0\n",
       "375    0\n",
       "313    0\n",
       "311    0\n",
       "94     3\n",
       "109    0\n",
       "359    0\n",
       "252    0\n",
       "58     0\n",
       "306    0\n",
       "87     0\n",
       "360    0\n",
       "197    1\n",
       "174    0\n",
       "122    0\n",
       "Name: disease, Length: 189, dtype: int64"
      ]
     },
     "execution_count": 72,
     "metadata": {},
     "output_type": "execute_result"
    }
   ],
   "source": [
    "y_train = y_train.astype('int')\n",
    "y_train"
   ]
  },
  {
   "cell_type": "code",
   "execution_count": 73,
   "metadata": {},
   "outputs": [
    {
     "data": {
      "text/plain": [
       "MultinomialNB(alpha=1.0, class_prior=None, fit_prior=True)"
      ]
     },
     "execution_count": 73,
     "metadata": {},
     "output_type": "execute_result"
    }
   ],
   "source": [
    "mnb.fit(x_traincv, y_train)"
   ]
  },
  {
   "cell_type": "code",
   "execution_count": 74,
   "metadata": {},
   "outputs": [],
   "source": [
    "predictions = mnb.predict(x_testcv)"
   ]
  },
  {
   "cell_type": "code",
   "execution_count": 75,
   "metadata": {},
   "outputs": [
    {
     "data": {
      "text/plain": [
       "array([1, 0, 0, 0, 0, 0, 0, 0, 2, 3, 0, 0, 0, 3, 1, 0, 0, 2, 0, 0, 0, 0, 0,\n",
       "       0, 0, 0, 0, 0, 0, 3, 0, 0, 0, 0, 0, 0, 0, 0, 0, 2, 0, 0, 3, 1, 0, 0,\n",
       "       0, 0, 0, 2, 0, 0, 0, 0, 0, 2, 0, 0, 0, 0, 0, 0, 0, 0, 0, 1, 0, 0, 1,\n",
       "       0, 2, 0, 0, 3, 1, 0, 2, 0, 0, 0, 0, 0, 0, 0, 0, 0, 0, 0, 0, 0, 0, 0,\n",
       "       0, 0, 0, 0, 0, 0, 2, 0, 0, 0, 0, 3, 0, 0, 0, 0, 0, 0, 0, 3, 0, 0, 0,\n",
       "       1, 0, 0, 0, 0, 0, 2, 2, 1, 0, 0, 0, 0, 0, 0, 0, 0, 0, 0, 2, 3, 0, 0,\n",
       "       1, 0, 0, 0, 2, 0, 0, 0, 0, 0, 0, 3, 0, 0, 0, 0, 0, 0, 2, 0, 0, 0, 0,\n",
       "       3, 2, 0, 0, 3, 0, 0, 0, 1, 0, 0, 1, 2, 0, 0, 0, 0, 0, 1, 0, 0, 0, 0,\n",
       "       0, 0, 0, 3, 3, 0], dtype=object)"
      ]
     },
     "execution_count": 75,
     "metadata": {},
     "output_type": "execute_result"
    }
   ],
   "source": [
    "a = np.array(y_test)\n",
    "a"
   ]
  },
  {
   "cell_type": "code",
   "execution_count": 76,
   "metadata": {},
   "outputs": [
    {
     "name": "stdout",
     "output_type": "stream",
     "text": [
      "Prediction 2 \n",
      "Actual: 0 \n",
      "\n",
      "Prediction 1 \n",
      "Actual: 0 \n",
      "\n",
      "Prediction 0 \n",
      "Actual: 1 \n",
      "\n",
      "Prediction 1 \n",
      "Actual: 0 \n",
      "\n",
      "Prediction 3 \n",
      "Actual: 0 \n",
      "\n",
      "Prediction 3 \n",
      "Actual: 0 \n",
      "\n",
      "Prediction 0 \n",
      "Actual: 3 \n",
      "\n",
      "Prediction 0 \n",
      "Actual: 1 \n",
      "\n",
      "Prediction 0 \n",
      "Actual: 1 \n",
      "\n",
      "Prediction 2 \n",
      "Actual: 0 \n",
      "\n",
      "Prediction 1 \n",
      "Actual: 0 \n",
      "\n",
      "Prediction 0 \n",
      "Actual: 1 \n",
      "\n",
      "Prediction 1 \n",
      "Actual: 0 \n",
      "\n",
      "Prediction 1 \n",
      "Actual: 0 \n",
      "\n",
      "Prediction 0 \n",
      "Actual: 1 \n",
      "\n",
      "Prediction 1 \n",
      "Actual: 0 \n",
      "\n"
     ]
    },
    {
     "data": {
      "text/plain": [
       "174"
      ]
     },
     "execution_count": 76,
     "metadata": {},
     "output_type": "execute_result"
    }
   ],
   "source": [
    "count = 0\n",
    "\n",
    "for i in range(len(predictions)):\n",
    "    if predictions[i] == a[i]:\n",
    "        count += 1\n",
    "    else:\n",
    "        print(\"Prediction\", predictions[i], \"\\nActual:\", a[i], \"\\n\")\n",
    "        \n",
    "count"
   ]
  },
  {
   "cell_type": "code",
   "execution_count": 77,
   "metadata": {},
   "outputs": [
    {
     "data": {
      "text/plain": [
       "190"
      ]
     },
     "execution_count": 77,
     "metadata": {},
     "output_type": "execute_result"
    }
   ],
   "source": [
    "len(predictions)"
   ]
  },
  {
   "cell_type": "code",
   "execution_count": 78,
   "metadata": {},
   "outputs": [
    {
     "data": {
      "text/plain": [
       "0.9157894736842105"
      ]
     },
     "execution_count": 78,
     "metadata": {},
     "output_type": "execute_result"
    }
   ],
   "source": [
    "count / len(predictions)"
   ]
  }
 ],
 "metadata": {
  "kernelspec": {
   "display_name": "Python 3",
   "language": "python",
   "name": "python3"
  },
  "language_info": {
   "codemirror_mode": {
    "name": "ipython",
    "version": 3
   },
   "file_extension": ".py",
   "mimetype": "text/x-python",
   "name": "python",
   "nbconvert_exporter": "python",
   "pygments_lexer": "ipython3",
   "version": "3.6.2"
  }
 },
 "nbformat": 4,
 "nbformat_minor": 2
}
