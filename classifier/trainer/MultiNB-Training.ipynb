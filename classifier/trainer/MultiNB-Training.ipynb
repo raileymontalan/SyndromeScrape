{
 "cells": [
  {
   "cell_type": "code",
   "execution_count": 127,
   "metadata": {},
   "outputs": [],
   "source": [
    "import numpy as np\n",
    "import pandas as pd\n",
    "from sklearn.feature_extraction.text import CountVectorizer\n",
    "from sklearn.model_selection import train_test_split\n",
    "from sklearn.naive_bayes import MultinomialNB\n",
    "from sklearn.feature_extraction.text import TfidfVectorizer"
   ]
  },
  {
   "cell_type": "code",
   "execution_count": 128,
   "metadata": {},
   "outputs": [
    {
     "data": {
      "text/plain": [
       "none       302\n",
       "dengue      69\n",
       "typhoid     38\n",
       "measles     38\n",
       "Name: disease, dtype: int64"
      ]
     },
     "execution_count": 128,
     "metadata": {},
     "output_type": "execute_result"
    }
   ],
   "source": [
    "df = pd.read_json('train.json', encoding='utf-8')\n",
    "df = df.sample(frac=1).reset_index(drop=True)\n",
    "df = df[['content', 'disease']]\n",
    "df.head()\n",
    "df['disease'].value_counts()"
   ]
  },
  {
   "cell_type": "code",
   "execution_count": 129,
   "metadata": {},
   "outputs": [
    {
     "data": {
      "text/html": [
       "<div>\n",
       "<style scoped>\n",
       "    .dataframe tbody tr th:only-of-type {\n",
       "        vertical-align: middle;\n",
       "    }\n",
       "\n",
       "    .dataframe tbody tr th {\n",
       "        vertical-align: top;\n",
       "    }\n",
       "\n",
       "    .dataframe thead th {\n",
       "        text-align: right;\n",
       "    }\n",
       "</style>\n",
       "<table border=\"1\" class=\"dataframe\">\n",
       "  <thead>\n",
       "    <tr style=\"text-align: right;\">\n",
       "      <th></th>\n",
       "      <th>content</th>\n",
       "      <th>disease</th>\n",
       "    </tr>\n",
       "  </thead>\n",
       "  <tbody>\n",
       "    <tr>\n",
       "      <th>0</th>\n",
       "      <td>MANILA - Sugatan ang driver ng service vehicle...</td>\n",
       "      <td>0</td>\n",
       "    </tr>\n",
       "    <tr>\n",
       "      <th>1</th>\n",
       "      <td>MANILA, Philippines — De La Salle Philippines ...</td>\n",
       "      <td>0</td>\n",
       "    </tr>\n",
       "    <tr>\n",
       "      <th>2</th>\n",
       "      <td>Measles (“tigdas”) has killed at least 44 peop...</td>\n",
       "      <td>2</td>\n",
       "    </tr>\n",
       "    <tr>\n",
       "      <th>3</th>\n",
       "      <td>MANILA, Philippines — In the face of intense c...</td>\n",
       "      <td>0</td>\n",
       "    </tr>\n",
       "    <tr>\n",
       "      <th>4</th>\n",
       "      <td>CAMP VICENTE LIM, Laguna , Philippines — What ...</td>\n",
       "      <td>0</td>\n",
       "    </tr>\n",
       "  </tbody>\n",
       "</table>\n",
       "</div>"
      ],
      "text/plain": [
       "                                             content disease\n",
       "0  MANILA - Sugatan ang driver ng service vehicle...       0\n",
       "1  MANILA, Philippines — De La Salle Philippines ...       0\n",
       "2  Measles (“tigdas”) has killed at least 44 peop...       2\n",
       "3  MANILA, Philippines — In the face of intense c...       0\n",
       "4  CAMP VICENTE LIM, Laguna , Philippines — What ...       0"
      ]
     },
     "execution_count": 129,
     "metadata": {},
     "output_type": "execute_result"
    }
   ],
   "source": [
    "df.loc[df['disease']=='none', 'disease',]=0\n",
    "df.loc[df['disease']=='dengue', 'disease',]=1\n",
    "df.loc[df['disease']=='measles', 'disease',]=2\n",
    "df.loc[df['disease']=='typhoid', 'disease',]=3\n",
    "df.head()"
   ]
  },
  {
   "cell_type": "code",
   "execution_count": 130,
   "metadata": {},
   "outputs": [],
   "source": [
    "df_x = df['content']\n",
    "df_y = df['disease']"
   ]
  },
  {
   "cell_type": "code",
   "execution_count": 131,
   "metadata": {},
   "outputs": [],
   "source": [
    "x_train, x_test, y_train, y_test = train_test_split(df_x, df_y, test_size=0.50, random_state=4)"
   ]
  },
  {
   "cell_type": "code",
   "execution_count": 132,
   "metadata": {},
   "outputs": [
    {
     "data": {
      "text/plain": [
       "366    New satellite images show China is still devel...\n",
       "271    STA. MARIA, Ilocos Sur - Plano ng National His...\n",
       "185    DAVAO CITY — Health officials in the city on M...\n",
       "365    MANILA, Philippines — A fire of still unknown ...\n",
       "132    MANILA - Tropical Depression Ramil has crossed...\n",
       "Name: content, dtype: object"
      ]
     },
     "execution_count": 132,
     "metadata": {},
     "output_type": "execute_result"
    }
   ],
   "source": [
    "x_train.head()"
   ]
  },
  {
   "cell_type": "code",
   "execution_count": 133,
   "metadata": {},
   "outputs": [],
   "source": [
    "cv = CountVectorizer(min_df=1, stop_words='english', vocabulary={\n",
    "    'dengue':0, \n",
    "    'measles':1, \n",
    "    'typhoid':2,\n",
    "})\n",
    "x_traincv = cv.fit_transform(x_train)\n",
    "a = x_traincv.toarray()\n",
    "cv.inverse_transform(a[0])\n",
    "x_testcv = cv.transform(x_test)"
   ]
  },
  {
   "cell_type": "code",
   "execution_count": 134,
   "metadata": {},
   "outputs": [],
   "source": [
    "mnb = MultinomialNB()"
   ]
  },
  {
   "cell_type": "code",
   "execution_count": 135,
   "metadata": {},
   "outputs": [
    {
     "data": {
      "text/plain": [
       "366    0\n",
       "271    0\n",
       "185    3\n",
       "365    0\n",
       "132    0\n",
       "261    0\n",
       "177    3\n",
       "298    0\n",
       "356    1\n",
       "229    1\n",
       "346    0\n",
       "19     0\n",
       "304    2\n",
       "117    1\n",
       "340    0\n",
       "48     0\n",
       "406    0\n",
       "399    0\n",
       "422    0\n",
       "147    0\n",
       "65     3\n",
       "210    1\n",
       "417    0\n",
       "347    0\n",
       "116    0\n",
       "325    2\n",
       "235    0\n",
       "353    0\n",
       "295    0\n",
       "428    0\n",
       "      ..\n",
       "194    0\n",
       "56     0\n",
       "201    0\n",
       "149    0\n",
       "21     2\n",
       "183    0\n",
       "0      0\n",
       "387    0\n",
       "52     0\n",
       "126    0\n",
       "294    2\n",
       "44     2\n",
       "164    0\n",
       "441    1\n",
       "313    0\n",
       "311    0\n",
       "94     0\n",
       "109    1\n",
       "359    0\n",
       "252    0\n",
       "58     2\n",
       "393    0\n",
       "306    0\n",
       "87     1\n",
       "360    0\n",
       "385    0\n",
       "197    0\n",
       "439    0\n",
       "174    3\n",
       "122    0\n",
       "Name: disease, Length: 223, dtype: int64"
      ]
     },
     "execution_count": 135,
     "metadata": {},
     "output_type": "execute_result"
    }
   ],
   "source": [
    "y_train = y_train.astype('int')\n",
    "y_train"
   ]
  },
  {
   "cell_type": "code",
   "execution_count": 136,
   "metadata": {},
   "outputs": [
    {
     "data": {
      "text/plain": [
       "MultinomialNB(alpha=1.0, class_prior=None, fit_prior=True)"
      ]
     },
     "execution_count": 136,
     "metadata": {},
     "output_type": "execute_result"
    }
   ],
   "source": [
    "mnb.fit(x_traincv, y_train)"
   ]
  },
  {
   "cell_type": "code",
   "execution_count": 137,
   "metadata": {},
   "outputs": [],
   "source": [
    "predictions = mnb.predict(x_testcv)"
   ]
  },
  {
   "cell_type": "code",
   "execution_count": 138,
   "metadata": {},
   "outputs": [
    {
     "data": {
      "text/plain": [
       "0    147\n",
       "1     36\n",
       "2     22\n",
       "3     19\n",
       "Name: a, dtype: int64"
      ]
     },
     "execution_count": 138,
     "metadata": {},
     "output_type": "execute_result"
    }
   ],
   "source": [
    "a = np.array(y_test)\n",
    "pd.DataFrame(a, columns=['a'])['a'].value_counts()"
   ]
  },
  {
   "cell_type": "code",
   "execution_count": 126,
   "metadata": {
    "scrolled": false
   },
   "outputs": [
    {
     "name": "stdout",
     "output_type": "stream",
     "text": [
      "Prediction 1 \n",
      "Actual: 0 \n",
      "\n",
      "Prediction 1 \n",
      "Actual: 0 \n",
      "\n",
      "Prediction 1 \n",
      "Actual: 0 \n",
      "\n",
      "Prediction 3 \n",
      "Actual: 0 \n",
      "\n",
      "Prediction 1 \n",
      "Actual: 0 \n",
      "\n",
      "Prediction 0 \n",
      "Actual: 3 \n",
      "\n",
      "Prediction 0 \n",
      "Actual: 1 \n",
      "\n",
      "Prediction 0 \n",
      "Actual: 2 \n",
      "\n",
      "Prediction 0 \n",
      "Actual: 1 \n",
      "\n",
      "Prediction 2 \n",
      "Actual: 0 \n",
      "\n",
      "Prediction 0 \n",
      "Actual: 1 \n",
      "\n",
      "Prediction 2 \n",
      "Actual: 0 \n",
      "\n",
      "Prediction 1 \n",
      "Actual: 0 \n",
      "\n",
      "Prediction 0 \n",
      "Actual: 1 \n",
      "\n",
      "Prediction 0 \n",
      "Actual: 1 \n",
      "\n",
      "Prediction 3 \n",
      "Actual: 0 \n",
      "\n",
      "Prediction 0 \n",
      "Actual: 1 \n",
      "\n",
      "Prediction 1 \n",
      "Actual: 0 \n",
      "\n",
      "Prediction 0 \n",
      "Actual: 1 \n",
      "\n",
      "Prediction 0 \n",
      "Actual: 1 \n",
      "\n",
      "Prediction 0 \n",
      "Actual: 1 \n",
      "\n",
      "Prediction 0 \n",
      "Actual: 1 \n",
      "\n",
      "Prediction 0 \n",
      "Actual: 1 \n",
      "\n",
      "Prediction 2 \n",
      "Actual: 0 \n",
      "\n",
      "Prediction 1 \n",
      "Actual: 0 \n",
      "\n",
      "Prediction 0 \n",
      "Actual: 1 \n",
      "\n",
      "Prediction 2 \n",
      "Actual: 0 \n",
      "\n",
      "Prediction 0 \n",
      "Actual: 1 \n",
      "\n",
      "Prediction 0 \n",
      "Actual: 1 \n",
      "\n",
      "Prediction 0 \n",
      "Actual: 1 \n",
      "\n",
      "Prediction 0 \n",
      "Actual: 1 \n",
      "\n",
      "Prediction 0 \n",
      "Actual: 1 \n",
      "\n",
      "Prediction 2 \n",
      "Actual: 0 \n",
      "\n",
      "Prediction 0 \n",
      "Actual: 1 \n",
      "\n",
      "Prediction 2 \n",
      "Actual: 0 \n",
      "\n"
     ]
    },
    {
     "data": {
      "text/plain": [
       "[132, 17, 24, 16]"
      ]
     },
     "execution_count": 126,
     "metadata": {},
     "output_type": "execute_result"
    }
   ],
   "source": [
    "count = [0, 0, 0, 0]\n",
    "\n",
    "for i in range(len(predictions)):\n",
    "    if predictions[i] == a[i]:\n",
    "        if predictions[i] == 0:\n",
    "            count[0] += 1\n",
    "        if predictions[i] == 1:\n",
    "            count[1] += 1\n",
    "        if predictions[i] == 2:\n",
    "            count[2] += 1\n",
    "        if predictions[i] == 3:\n",
    "            count[3] += 1\n",
    "    else:\n",
    "        print(\"Prediction\", predictions[i], \"\\nActual:\", a[i], \"\\n\")\n",
    "        \n",
    "count"
   ]
  },
  {
   "cell_type": "code",
   "execution_count": 47,
   "metadata": {},
   "outputs": [
    {
     "data": {
      "text/plain": [
       "191"
      ]
     },
     "execution_count": 47,
     "metadata": {},
     "output_type": "execute_result"
    }
   ],
   "source": [
    "len(predictions)"
   ]
  },
  {
   "cell_type": "code",
   "execution_count": null,
   "metadata": {},
   "outputs": [],
   "source": []
  }
 ],
 "metadata": {
  "kernelspec": {
   "display_name": "Python 3",
   "language": "python",
   "name": "python3"
  },
  "language_info": {
   "codemirror_mode": {
    "name": "ipython",
    "version": 3
   },
   "file_extension": ".py",
   "mimetype": "text/x-python",
   "name": "python",
   "nbconvert_exporter": "python",
   "pygments_lexer": "ipython3",
   "version": "3.6.4"
  }
 },
 "nbformat": 4,
 "nbformat_minor": 2
}
