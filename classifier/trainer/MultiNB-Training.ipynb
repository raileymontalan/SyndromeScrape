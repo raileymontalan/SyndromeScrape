{
 "cells": [
  {
   "cell_type": "code",
   "execution_count": 77,
   "metadata": {},
   "outputs": [],
   "source": [
    "import numpy as np\n",
    "import pandas as pd\n",
    "from sklearn.feature_extraction.text import CountVectorizer\n",
    "from sklearn.model_selection import train_test_split\n",
    "from sklearn.naive_bayes import MultinomialNB\n",
    "from sklearn.feature_extraction.text import TfidfVectorizer"
   ]
  },
  {
   "cell_type": "code",
   "execution_count": 78,
   "metadata": {},
   "outputs": [
    {
     "data": {
      "text/plain": [
       "none       302\n",
       "dengue      29\n",
       "measles     27\n",
       "typhoid     24\n",
       "Name: disease, dtype: int64"
      ]
     },
     "execution_count": 78,
     "metadata": {},
     "output_type": "execute_result"
    }
   ],
   "source": [
    "df = pd.read_json('train.json', encoding='utf-8')\n",
    "df = df.sample(frac=1).reset_index(drop=True)\n",
    "df = df[['content', 'disease']]\n",
    "df.head()\n",
    "df['disease'].value_counts()"
   ]
  },
  {
   "cell_type": "code",
   "execution_count": 79,
   "metadata": {},
   "outputs": [
    {
     "data": {
      "text/html": [
       "<div>\n",
       "<style scoped>\n",
       "    .dataframe tbody tr th:only-of-type {\n",
       "        vertical-align: middle;\n",
       "    }\n",
       "\n",
       "    .dataframe tbody tr th {\n",
       "        vertical-align: top;\n",
       "    }\n",
       "\n",
       "    .dataframe thead th {\n",
       "        text-align: right;\n",
       "    }\n",
       "</style>\n",
       "<table border=\"1\" class=\"dataframe\">\n",
       "  <thead>\n",
       "    <tr style=\"text-align: right;\">\n",
       "      <th></th>\n",
       "      <th>content</th>\n",
       "      <th>disease</th>\n",
       "    </tr>\n",
       "  </thead>\n",
       "  <tbody>\n",
       "    <tr>\n",
       "      <th>0</th>\n",
       "      <td>ZAMBOANGA CITY, Philippines —More than four ki...</td>\n",
       "      <td>0</td>\n",
       "    </tr>\n",
       "    <tr>\n",
       "      <th>1</th>\n",
       "      <td>MIAMI, USA – Measles has been eradicated from ...</td>\n",
       "      <td>0</td>\n",
       "    </tr>\n",
       "    <tr>\n",
       "      <th>2</th>\n",
       "      <td>Arestado ang isang criminology student at isan...</td>\n",
       "      <td>0</td>\n",
       "    </tr>\n",
       "    <tr>\n",
       "      <th>3</th>\n",
       "      <td>DAVAO CITY, Philippines — President Duterte wa...</td>\n",
       "      <td>0</td>\n",
       "    </tr>\n",
       "    <tr>\n",
       "      <th>4</th>\n",
       "      <td>MANILA, Philippines — Jericho Genaskey Aguas, ...</td>\n",
       "      <td>0</td>\n",
       "    </tr>\n",
       "  </tbody>\n",
       "</table>\n",
       "</div>"
      ],
      "text/plain": [
       "                                             content disease\n",
       "0  ZAMBOANGA CITY, Philippines —More than four ki...       0\n",
       "1  MIAMI, USA – Measles has been eradicated from ...       0\n",
       "2  Arestado ang isang criminology student at isan...       0\n",
       "3  DAVAO CITY, Philippines — President Duterte wa...       0\n",
       "4  MANILA, Philippines — Jericho Genaskey Aguas, ...       0"
      ]
     },
     "execution_count": 79,
     "metadata": {},
     "output_type": "execute_result"
    }
   ],
   "source": [
    "df.loc[df['disease']=='none', 'disease',]=0\n",
    "df.loc[df['disease']=='dengue', 'disease',]=1\n",
    "df.loc[df['disease']=='measles', 'disease',]=2\n",
    "df.loc[df['disease']=='typhoid', 'disease',]=3\n",
    "df.head()"
   ]
  },
  {
   "cell_type": "code",
   "execution_count": 80,
   "metadata": {},
   "outputs": [],
   "source": [
    "df_x = df['content']\n",
    "df_y = df['disease']"
   ]
  },
  {
   "cell_type": "code",
   "execution_count": 81,
   "metadata": {},
   "outputs": [],
   "source": [
    "x_train, x_test, y_train, y_test = train_test_split(df_x, df_y, test_size=0.50, random_state=4)"
   ]
  },
  {
   "cell_type": "code",
   "execution_count": 82,
   "metadata": {},
   "outputs": [
    {
     "data": {
      "text/plain": [
       "286    Isang kagawad sa Maynila ang tinutukan ng bari...\n",
       "300     The Department of Health (DOH) will halt the ...\n",
       "90     MANILA, Philippines — Sen. Leila de Lima suppo...\n",
       "76     MANILA, Philippines — Tokyo should publicly ca...\n",
       "108    KARACHI–More than 300 Pakistani children died ...\n",
       "Name: content, dtype: object"
      ]
     },
     "execution_count": 82,
     "metadata": {},
     "output_type": "execute_result"
    }
   ],
   "source": [
    "x_train.head()"
   ]
  },
  {
   "cell_type": "code",
   "execution_count": 83,
   "metadata": {},
   "outputs": [],
   "source": [
    "cv = CountVectorizer(min_df=1, stop_words='english', vocabulary={\n",
    "    'dengue':0, \n",
    "    'measles':1, \n",
    "    'typhoid':2,\n",
    "})\n",
    "x_traincv = cv.fit_transform(x_train)\n",
    "a = x_traincv.toarray()\n",
    "cv.inverse_transform(a[0])\n",
    "x_testcv = cv.transform(x_test)"
   ]
  },
  {
   "cell_type": "code",
   "execution_count": 84,
   "metadata": {},
   "outputs": [],
   "source": [
    "mnb = MultinomialNB()"
   ]
  },
  {
   "cell_type": "code",
   "execution_count": 85,
   "metadata": {},
   "outputs": [
    {
     "data": {
      "text/plain": [
       "286    0\n",
       "300    0\n",
       "90     0\n",
       "76     0\n",
       "108    2\n",
       "229    2\n",
       "205    0\n",
       "162    2\n",
       "35     1\n",
       "295    1\n",
       "178    0\n",
       "81     0\n",
       "163    0\n",
       "57     2\n",
       "121    0\n",
       "324    0\n",
       "26     0\n",
       "140    0\n",
       "344    0\n",
       "104    0\n",
       "4      0\n",
       "269    0\n",
       "77     0\n",
       "284    0\n",
       "135    0\n",
       "62     0\n",
       "226    2\n",
       "218    0\n",
       "274    0\n",
       "281    0\n",
       "      ..\n",
       "49     0\n",
       "136    0\n",
       "30     0\n",
       "380    0\n",
       "194    1\n",
       "56     0\n",
       "201    0\n",
       "149    3\n",
       "21     0\n",
       "183    0\n",
       "0      0\n",
       "52     0\n",
       "126    0\n",
       "294    0\n",
       "44     0\n",
       "164    0\n",
       "378    0\n",
       "313    0\n",
       "311    0\n",
       "94     0\n",
       "109    0\n",
       "359    0\n",
       "252    0\n",
       "58     0\n",
       "306    3\n",
       "87     0\n",
       "360    0\n",
       "197    0\n",
       "174    1\n",
       "122    0\n",
       "Name: disease, Length: 191, dtype: int64"
      ]
     },
     "execution_count": 85,
     "metadata": {},
     "output_type": "execute_result"
    }
   ],
   "source": [
    "y_train = y_train.astype('int')\n",
    "y_train"
   ]
  },
  {
   "cell_type": "code",
   "execution_count": 86,
   "metadata": {},
   "outputs": [
    {
     "data": {
      "text/plain": [
       "MultinomialNB(alpha=1.0, class_prior=None, fit_prior=True)"
      ]
     },
     "execution_count": 86,
     "metadata": {},
     "output_type": "execute_result"
    }
   ],
   "source": [
    "mnb.fit(x_traincv, y_train)"
   ]
  },
  {
   "cell_type": "code",
   "execution_count": 87,
   "metadata": {},
   "outputs": [],
   "source": [
    "predictions = mnb.predict(x_testcv)"
   ]
  },
  {
   "cell_type": "code",
   "execution_count": 88,
   "metadata": {},
   "outputs": [
    {
     "data": {
      "text/plain": [
       "0    144\n",
       "2     17\n",
       "1     17\n",
       "3     13\n",
       "Name: a, dtype: int64"
      ]
     },
     "execution_count": 88,
     "metadata": {},
     "output_type": "execute_result"
    }
   ],
   "source": [
    "a = np.array(y_test)\n",
    "pd.DataFrame(a, columns=['a'])['a'].value_counts()"
   ]
  },
  {
   "cell_type": "code",
   "execution_count": 89,
   "metadata": {},
   "outputs": [
    {
     "name": "stdout",
     "output_type": "stream",
     "text": [
      "Prediction 0 \n",
      "Actual: 1 \n",
      "\n",
      "Prediction 0 \n",
      "Actual: 1 \n",
      "\n",
      "Prediction 1 \n",
      "Actual: 0 \n",
      "\n",
      "Prediction 0 \n",
      "Actual: 3 \n",
      "\n",
      "Prediction 0 \n",
      "Actual: 1 \n",
      "\n",
      "Prediction 0 \n",
      "Actual: 1 \n",
      "\n",
      "Prediction 0 \n",
      "Actual: 1 \n",
      "\n",
      "Prediction 0 \n",
      "Actual: 1 \n",
      "\n",
      "Prediction 1 \n",
      "Actual: 0 \n",
      "\n",
      "Prediction 0 \n",
      "Actual: 1 \n",
      "\n",
      "Prediction 1 \n",
      "Actual: 0 \n",
      "\n",
      "Prediction 0 \n",
      "Actual: 1 \n",
      "\n",
      "Prediction 2 \n",
      "Actual: 0 \n",
      "\n",
      "Prediction 0 \n",
      "Actual: 1 \n",
      "\n",
      "Prediction 1 \n",
      "Actual: 0 \n",
      "\n",
      "Prediction 0 \n",
      "Actual: 1 \n",
      "\n",
      "Prediction 2 \n",
      "Actual: 0 \n",
      "\n",
      "Prediction 1 \n",
      "Actual: 0 \n",
      "\n",
      "Prediction 2 \n",
      "Actual: 0 \n",
      "\n",
      "Prediction 0 \n",
      "Actual: 1 \n",
      "\n",
      "Prediction 0 \n",
      "Actual: 3 \n",
      "\n",
      "Prediction 2 \n",
      "Actual: 0 \n",
      "\n",
      "Prediction 1 \n",
      "Actual: 0 \n",
      "\n",
      "Prediction 1 \n",
      "Actual: 0 \n",
      "\n"
     ]
    },
    {
     "data": {
      "text/plain": [
       "[133, 6, 17, 11]"
      ]
     },
     "execution_count": 89,
     "metadata": {},
     "output_type": "execute_result"
    }
   ],
   "source": [
    "count = [0, 0, 0, 0]\n",
    "\n",
    "for i in range(len(predictions)):\n",
    "    if predictions[i] == a[i]:\n",
    "        if predictions[i] == 0:\n",
    "            count[0] += 1\n",
    "        if predictions[i] == 1:\n",
    "            count[1] += 1\n",
    "        if predictions[i] == 2:\n",
    "            count[2] += 1\n",
    "        if predictions[i] == 3:\n",
    "            count[3] += 1\n",
    "    else:\n",
    "        print(\"Prediction\", predictions[i], \"\\nActual:\", a[i], \"\\n\")\n",
    "        \n",
    "count"
   ]
  },
  {
   "cell_type": "code",
   "execution_count": 90,
   "metadata": {},
   "outputs": [
    {
     "data": {
      "text/plain": [
       "191"
      ]
     },
     "execution_count": 90,
     "metadata": {},
     "output_type": "execute_result"
    }
   ],
   "source": [
    "len(predictions)"
   ]
  }
 ],
 "metadata": {
  "kernelspec": {
   "display_name": "Python 3",
   "language": "python",
   "name": "python3"
  },
  "language_info": {
   "codemirror_mode": {
    "name": "ipython",
    "version": 3
   },
   "file_extension": ".py",
   "mimetype": "text/x-python",
   "name": "python",
   "nbconvert_exporter": "python",
   "pygments_lexer": "ipython3",
   "version": "3.6.4"
  }
 },
 "nbformat": 4,
 "nbformat_minor": 2
}
